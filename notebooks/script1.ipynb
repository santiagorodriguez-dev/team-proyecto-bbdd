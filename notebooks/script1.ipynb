{
 "cells": [
  {
   "cell_type": "code",
   "execution_count": null,
   "metadata": {},
   "outputs": [],
   "source": [
    "import pandas as pd\n",
    "import numpy as np\n",
    "\n",
    "import psycopg2\n",
    "from psycopg2 import errorcodes, OperationalError"
   ]
  },
  {
   "cell_type": "code",
   "execution_count": 28,
   "metadata": {},
   "outputs": [],
   "source": [
    "gastos = pd.read_csv('..\\datos\\gastos.csv')"
   ]
  },
  {
   "cell_type": "code",
   "execution_count": 29,
   "metadata": {},
   "outputs": [
    {
     "data": {
      "text/html": [
       "<div>\n",
       "<style scoped>\n",
       "    .dataframe tbody tr th:only-of-type {\n",
       "        vertical-align: middle;\n",
       "    }\n",
       "\n",
       "    .dataframe tbody tr th {\n",
       "        vertical-align: top;\n",
       "    }\n",
       "\n",
       "    .dataframe thead th {\n",
       "        text-align: right;\n",
       "    }\n",
       "</style>\n",
       "<table border=\"1\" class=\"dataframe\">\n",
       "  <thead>\n",
       "    <tr style=\"text-align: right;\">\n",
       "      <th></th>\n",
       "      <th>año</th>\n",
       "      <th>ncodi</th>\n",
       "      <th>totalcompra</th>\n",
       "      <th>producfarma</th>\n",
       "      <th>materialsani</th>\n",
       "      <th>implantes</th>\n",
       "      <th>restomateriasani</th>\n",
       "      <th>servcontratado</th>\n",
       "      <th>trabajocontratado</th>\n",
       "      <th>xrestocompras</th>\n",
       "      <th>...</th>\n",
       "      <th>xrestoserviexter</th>\n",
       "      <th>gastopersonal</th>\n",
       "      <th>sueldos</th>\n",
       "      <th>indemnizacion</th>\n",
       "      <th>segsocempresa</th>\n",
       "      <th>otrgassocial</th>\n",
       "      <th>dotaamortizacion</th>\n",
       "      <th>perdidadeterioro</th>\n",
       "      <th>xrestogasto</th>\n",
       "      <th>totcompragasto</th>\n",
       "    </tr>\n",
       "  </thead>\n",
       "  <tbody>\n",
       "    <tr>\n",
       "      <th>0</th>\n",
       "      <td>2020</td>\n",
       "      <td>113.0</td>\n",
       "      <td>1535894</td>\n",
       "      <td>344330.0</td>\n",
       "      <td>169443</td>\n",
       "      <td>0.0</td>\n",
       "      <td>169443.0</td>\n",
       "      <td>1877.0</td>\n",
       "      <td>678201.0</td>\n",
       "      <td>342043.0</td>\n",
       "      <td>...</td>\n",
       "      <td>506018.0</td>\n",
       "      <td>26209836</td>\n",
       "      <td>19875799</td>\n",
       "      <td>349499.0</td>\n",
       "      <td>5984538</td>\n",
       "      <td>0.0</td>\n",
       "      <td>298707.0</td>\n",
       "      <td>-6504.0</td>\n",
       "      <td>50165.0</td>\n",
       "      <td>28810972</td>\n",
       "    </tr>\n",
       "    <tr>\n",
       "      <th>1</th>\n",
       "      <td>2020</td>\n",
       "      <td>619.0</td>\n",
       "      <td>7884157</td>\n",
       "      <td>971762.0</td>\n",
       "      <td>1749006</td>\n",
       "      <td>493444.0</td>\n",
       "      <td>1255562.0</td>\n",
       "      <td>3800207.0</td>\n",
       "      <td>1248674.0</td>\n",
       "      <td>114508.0</td>\n",
       "      <td>...</td>\n",
       "      <td>2635675.0</td>\n",
       "      <td>7083969</td>\n",
       "      <td>5203283</td>\n",
       "      <td>151380.0</td>\n",
       "      <td>1591074</td>\n",
       "      <td>138232.0</td>\n",
       "      <td>2423752.0</td>\n",
       "      <td>0.0</td>\n",
       "      <td>312984.0</td>\n",
       "      <td>20573925</td>\n",
       "    </tr>\n",
       "    <tr>\n",
       "      <th>2</th>\n",
       "      <td>2020</td>\n",
       "      <td>163.0</td>\n",
       "      <td>5453290</td>\n",
       "      <td>126493.0</td>\n",
       "      <td>1412366</td>\n",
       "      <td>574127.0</td>\n",
       "      <td>838239.0</td>\n",
       "      <td>3217684.0</td>\n",
       "      <td>647852.0</td>\n",
       "      <td>48895.0</td>\n",
       "      <td>...</td>\n",
       "      <td>882274.0</td>\n",
       "      <td>2890388</td>\n",
       "      <td>2180177</td>\n",
       "      <td>-402.0</td>\n",
       "      <td>663398</td>\n",
       "      <td>47215.0</td>\n",
       "      <td>202688.0</td>\n",
       "      <td>-54028.0</td>\n",
       "      <td>232471.0</td>\n",
       "      <td>9677715</td>\n",
       "    </tr>\n",
       "    <tr>\n",
       "      <th>3</th>\n",
       "      <td>2020</td>\n",
       "      <td>131.0</td>\n",
       "      <td>245802</td>\n",
       "      <td>72318.0</td>\n",
       "      <td>52506</td>\n",
       "      <td>0.0</td>\n",
       "      <td>52506.0</td>\n",
       "      <td>1114.0</td>\n",
       "      <td>24303.0</td>\n",
       "      <td>95561.0</td>\n",
       "      <td>...</td>\n",
       "      <td>487053.0</td>\n",
       "      <td>1887375</td>\n",
       "      <td>1437421</td>\n",
       "      <td>9506.0</td>\n",
       "      <td>416398</td>\n",
       "      <td>24050.0</td>\n",
       "      <td>12084.0</td>\n",
       "      <td>240.0</td>\n",
       "      <td>132044.0</td>\n",
       "      <td>2844476</td>\n",
       "    </tr>\n",
       "    <tr>\n",
       "      <th>4</th>\n",
       "      <td>2020</td>\n",
       "      <td>375.0</td>\n",
       "      <td>762218</td>\n",
       "      <td>114702.0</td>\n",
       "      <td>106844</td>\n",
       "      <td>60.0</td>\n",
       "      <td>106784.0</td>\n",
       "      <td>14526.0</td>\n",
       "      <td>188463.0</td>\n",
       "      <td>337683.0</td>\n",
       "      <td>...</td>\n",
       "      <td>192132.0</td>\n",
       "      <td>7764302</td>\n",
       "      <td>5838470</td>\n",
       "      <td>0.0</td>\n",
       "      <td>1837175</td>\n",
       "      <td>88657.0</td>\n",
       "      <td>184413.0</td>\n",
       "      <td>93708.0</td>\n",
       "      <td>1552.0</td>\n",
       "      <td>9037657</td>\n",
       "    </tr>\n",
       "  </tbody>\n",
       "</table>\n",
       "<p>5 rows × 23 columns</p>\n",
       "</div>"
      ],
      "text/plain": [
       "    año  ncodi  totalcompra  producfarma  materialsani  implantes  \\\n",
       "0  2020  113.0      1535894     344330.0        169443        0.0   \n",
       "1  2020  619.0      7884157     971762.0       1749006   493444.0   \n",
       "2  2020  163.0      5453290     126493.0       1412366   574127.0   \n",
       "3  2020  131.0       245802      72318.0         52506        0.0   \n",
       "4  2020  375.0       762218     114702.0        106844       60.0   \n",
       "\n",
       "   restomateriasani  servcontratado  trabajocontratado  xrestocompras  ...  \\\n",
       "0          169443.0          1877.0           678201.0       342043.0  ...   \n",
       "1         1255562.0       3800207.0          1248674.0       114508.0  ...   \n",
       "2          838239.0       3217684.0           647852.0        48895.0  ...   \n",
       "3           52506.0          1114.0            24303.0        95561.0  ...   \n",
       "4          106784.0         14526.0           188463.0       337683.0  ...   \n",
       "\n",
       "   xrestoserviexter  gastopersonal   sueldos  indemnizacion  segsocempresa  \\\n",
       "0          506018.0       26209836  19875799       349499.0        5984538   \n",
       "1         2635675.0        7083969   5203283       151380.0        1591074   \n",
       "2          882274.0        2890388   2180177         -402.0         663398   \n",
       "3          487053.0        1887375   1437421         9506.0         416398   \n",
       "4          192132.0        7764302   5838470            0.0        1837175   \n",
       "\n",
       "   otrgassocial  dotaamortizacion  perdidadeterioro  xrestogasto  \\\n",
       "0           0.0          298707.0           -6504.0      50165.0   \n",
       "1      138232.0         2423752.0               0.0     312984.0   \n",
       "2       47215.0          202688.0          -54028.0     232471.0   \n",
       "3       24050.0           12084.0             240.0     132044.0   \n",
       "4       88657.0          184413.0           93708.0       1552.0   \n",
       "\n",
       "   totcompragasto  \n",
       "0        28810972  \n",
       "1        20573925  \n",
       "2         9677715  \n",
       "3         2844476  \n",
       "4         9037657  \n",
       "\n",
       "[5 rows x 23 columns]"
      ]
     },
     "execution_count": 29,
     "metadata": {},
     "output_type": "execute_result"
    }
   ],
   "source": [
    "gastos.head()"
   ]
  },
  {
   "cell_type": "code",
   "execution_count": 30,
   "metadata": {},
   "outputs": [],
   "source": [
    "ingresos = pd.read_csv('..\\datos\\ingresos.csv', index_col=0)"
   ]
  },
  {
   "cell_type": "code",
   "execution_count": 31,
   "metadata": {},
   "outputs": [
    {
     "data": {
      "text/html": [
       "<div>\n",
       "<style scoped>\n",
       "    .dataframe tbody tr th:only-of-type {\n",
       "        vertical-align: middle;\n",
       "    }\n",
       "\n",
       "    .dataframe tbody tr th {\n",
       "        vertical-align: top;\n",
       "    }\n",
       "\n",
       "    .dataframe thead th {\n",
       "        text-align: right;\n",
       "    }\n",
       "</style>\n",
       "<table border=\"1\" class=\"dataframe\">\n",
       "  <thead>\n",
       "    <tr style=\"text-align: right;\">\n",
       "      <th></th>\n",
       "      <th>particulares</th>\n",
       "      <th>aseguradoras</th>\n",
       "      <th>aseguradoras_enfermedad</th>\n",
       "      <th>aseguradoreas_trafico</th>\n",
       "      <th>mutuas</th>\n",
       "      <th>tipo</th>\n",
       "      <th>año</th>\n",
       "      <th>ncodi</th>\n",
       "    </tr>\n",
       "  </thead>\n",
       "  <tbody>\n",
       "    <tr>\n",
       "      <th>0</th>\n",
       "      <td>0.0</td>\n",
       "      <td>103677.0</td>\n",
       "      <td>64383.0</td>\n",
       "      <td>39294.0</td>\n",
       "      <td>61456.0</td>\n",
       "      <td>Hospital</td>\n",
       "      <td>2013</td>\n",
       "      <td>990,00</td>\n",
       "    </tr>\n",
       "    <tr>\n",
       "      <th>1</th>\n",
       "      <td>324687.0</td>\n",
       "      <td>478280.0</td>\n",
       "      <td>392084.0</td>\n",
       "      <td>86196.0</td>\n",
       "      <td>484228.0</td>\n",
       "      <td>Hospital</td>\n",
       "      <td>2013</td>\n",
       "      <td>680,00</td>\n",
       "    </tr>\n",
       "    <tr>\n",
       "      <th>2</th>\n",
       "      <td>793512.0</td>\n",
       "      <td>1803352.0</td>\n",
       "      <td>1803352.0</td>\n",
       "      <td>0.0</td>\n",
       "      <td>20402.0</td>\n",
       "      <td>Hospital</td>\n",
       "      <td>2013</td>\n",
       "      <td>411,00</td>\n",
       "    </tr>\n",
       "    <tr>\n",
       "      <th>3</th>\n",
       "      <td>0.0</td>\n",
       "      <td>0.0</td>\n",
       "      <td>0.0</td>\n",
       "      <td>0.0</td>\n",
       "      <td>0.0</td>\n",
       "      <td>Hospital</td>\n",
       "      <td>2013</td>\n",
       "      <td>241,00</td>\n",
       "    </tr>\n",
       "    <tr>\n",
       "      <th>4</th>\n",
       "      <td>24406.0</td>\n",
       "      <td>63557.0</td>\n",
       "      <td>55091.0</td>\n",
       "      <td>8466.0</td>\n",
       "      <td>44106.0</td>\n",
       "      <td>Hospital</td>\n",
       "      <td>2013</td>\n",
       "      <td>558,00</td>\n",
       "    </tr>\n",
       "  </tbody>\n",
       "</table>\n",
       "</div>"
      ],
      "text/plain": [
       "   particulares  aseguradoras  aseguradoras_enfermedad  aseguradoreas_trafico  \\\n",
       "0           0.0      103677.0                  64383.0                39294.0   \n",
       "1      324687.0      478280.0                 392084.0                86196.0   \n",
       "2      793512.0     1803352.0                1803352.0                    0.0   \n",
       "3           0.0           0.0                      0.0                    0.0   \n",
       "4       24406.0       63557.0                  55091.0                 8466.0   \n",
       "\n",
       "     mutuas      tipo   año   ncodi  \n",
       "0   61456.0  Hospital  2013  990,00  \n",
       "1  484228.0  Hospital  2013  680,00  \n",
       "2   20402.0  Hospital  2013  411,00  \n",
       "3       0.0  Hospital  2013  241,00  \n",
       "4   44106.0  Hospital  2013  558,00  "
      ]
     },
     "execution_count": 31,
     "metadata": {},
     "output_type": "execute_result"
    }
   ],
   "source": [
    "ingresos.head()"
   ]
  },
  {
   "cell_type": "code",
   "execution_count": 32,
   "metadata": {},
   "outputs": [
    {
     "data": {
      "text/plain": [
       "array(['anio', 'id_hospital', 'totalcompra', 'producfarma',\n",
       "       'materialsani', 'implantes', 'restomateriasani', 'servcontratado',\n",
       "       'trabajocontratado', 'xrestocompras', 'variaexistencias',\n",
       "       'servexteriores', 'sumistro', 'xrestoserviexter', 'gastopersonal',\n",
       "       'sueldos', 'indemnizacion', 'segsocempresa', 'otrgassocial',\n",
       "       'dotaamortizacion', 'perdidadeterioro', 'xrestogasto',\n",
       "       'totcompragasto'], dtype=object)"
      ]
     },
     "execution_count": 32,
     "metadata": {},
     "output_type": "execute_result"
    }
   ],
   "source": [
    "columnas_gastos = gastos.columns.values\n",
    "columnas_gastos[1] = 'id_hospital'\n",
    "columnas_gastos[np.where(columnas_gastos == 'año')] = 'anio'\n",
    "columnas_gastos"
   ]
  },
  {
   "cell_type": "code",
   "execution_count": 33,
   "metadata": {},
   "outputs": [
    {
     "data": {
      "text/plain": [
       "array(['particulares', 'aseguradoras', 'aseguradoras_enfermedad',\n",
       "       'aseguradoreas_trafico', 'mutuas', 'id_tipo_hosp', 'anio',\n",
       "       'id_hospital'], dtype=object)"
      ]
     },
     "execution_count": 33,
     "metadata": {},
     "output_type": "execute_result"
    }
   ],
   "source": [
    "columnas_ingresos = ingresos.columns.values\n",
    "columnas_ingresos[-1] = 'id_hospital'\n",
    "columnas_ingresos[np.where(columnas_ingresos == 'tipo')] = 'id_tipo_hosp'\n",
    "columnas_ingresos[np.where(columnas_ingresos == 'año')] = 'anio'\n",
    "columnas_ingresos"
   ]
  },
  {
   "cell_type": "code",
   "execution_count": 34,
   "metadata": {},
   "outputs": [
    {
     "data": {
      "text/plain": [
       "array(['id_tipo_hosp', 'tipo_hosp'], dtype='<U12')"
      ]
     },
     "execution_count": 34,
     "metadata": {},
     "output_type": "execute_result"
    }
   ],
   "source": [
    "columnas_tipo = np.array(['id_tipo_hosp', 'tipo_hosp'])\n",
    "columnas_tipo"
   ]
  },
  {
   "cell_type": "code",
   "execution_count": 35,
   "metadata": {},
   "outputs": [
    {
     "data": {
      "text/plain": [
       "array('id_hospital', dtype='<U11')"
      ]
     },
     "execution_count": 35,
     "metadata": {},
     "output_type": "execute_result"
    }
   ],
   "source": [
    "columnas_hosp = np.array(\"id_hospital\")\n",
    "columnas_hosp"
   ]
  },
  {
   "cell_type": "code",
   "execution_count": 36,
   "metadata": {},
   "outputs": [],
   "source": [
    "def conectar(ddbb):\n",
    "    try:\n",
    "        connection = psycopg2.connect(\n",
    "            database = ddbb,\n",
    "            user = \"postgres\",\n",
    "            password = \"admin\",\n",
    "            host = \"localhost\",\n",
    "            port = \"5432\"\n",
    "        )\n",
    "    except OperationalError as e:\n",
    "        if e.pgcode == errorcodes.INVALID_PASSWORD:\n",
    "            print(\"La constraseña es errónea.\")\n",
    "        elif e.pgcode == errorcodes.CONNECTION_EXCEPTION:\n",
    "            print(\"Error de conexión\")\n",
    "        else:\n",
    "            print(f'Error:{e}')\n",
    "    return connection\n",
    "\n",
    "def query_fetch(connection, query_text):\n",
    "    cursor = connection.cursor()\n",
    "    cursor.execute(query_text)\n",
    "    result = cursor.fetchall()\n",
    "    cursor.close()\n",
    "    connection.close()\n",
    "    return result\n",
    "\n",
    "def query_commit(connection, query_text, *valores):\n",
    "    cursor = connection.cursor()\n",
    "    cursor.execute(query_text, *valores)\n",
    "    connection.commit()\n",
    "    cursor.close()\n",
    "    connection.close()\n",
    "    return print(\"Done!\")\n",
    "\n",
    "def query_commit_many(connection, query_text, *valores):\n",
    "    cursor = connection.cursor()\n",
    "    cursor.executemany(query_text, *valores)\n",
    "    connection.commit()\n",
    "    cursor.close()\n",
    "    connection.close()\n",
    "    return print(\"Done!\")"
   ]
  },
  {
   "cell_type": "code",
   "execution_count": 38,
   "metadata": {},
   "outputs": [],
   "source": [
    "# with open(r\"C:\\Users\\yanru\\OneDrive\\Documentos\\Hackio\\Hackio Bootcamp\\Retos\\team-proyecto-bbdd\\sql\\script_creacion_bdd.sql\") as r:\n",
    "#     creator = r.read()\n",
    "\n",
    "# conexion = conectar('HOSPITALES')\n",
    "# query_commit(conexion, creator)"
   ]
  },
  {
   "cell_type": "code",
   "execution_count": 39,
   "metadata": {},
   "outputs": [],
   "source": [
    "# conexion = conectar(None)\n",
    "# query_commit(conexion, query_text=\"CREATE DATABASE IF NOT EXISTS FOOO;\")"
   ]
  },
  {
   "cell_type": "code",
   "execution_count": 41,
   "metadata": {},
   "outputs": [],
   "source": [
    "import sys\n",
    "sys.path.append(\"..\")\n",
    "from src.soporte_queries_creacion import *\n"
   ]
  },
  {
   "cell_type": "code",
   "execution_count": null,
   "metadata": {},
   "outputs": [],
   "source": [
    "'''insert into hospitales(ncodi)\n",
    "                                values (%s)'''\n"
   ]
  }
 ],
 "metadata": {
  "kernelspec": {
   "display_name": "Python 3",
   "language": "python",
   "name": "python3"
  },
  "language_info": {
   "codemirror_mode": {
    "name": "ipython",
    "version": 3
   },
   "file_extension": ".py",
   "mimetype": "text/x-python",
   "name": "python",
   "nbconvert_exporter": "python",
   "pygments_lexer": "ipython3",
   "version": "3.11.9"
  }
 },
 "nbformat": 4,
 "nbformat_minor": 2
}

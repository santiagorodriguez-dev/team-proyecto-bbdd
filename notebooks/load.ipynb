{
 "cells": [
  {
   "cell_type": "markdown",
   "metadata": {},
   "source": [
    "# Carga de datos \n"
   ]
  },
  {
   "cell_type": "markdown",
   "metadata": {
    "vscode": {
     "languageId": "plaintext"
    }
   },
   "source": [
    "## Librerias "
   ]
  },
  {
   "cell_type": "code",
   "execution_count": 62,
   "metadata": {},
   "outputs": [],
   "source": [
    "\n",
    "# Importación de las funciones creadas en nuestro archivo de soporte\n",
    "# -----------------------------------------------------------------------\n",
    "import sys\n",
    "sys.path.append(\"..\")\n",
    "\n",
    "# from src import soporte_carga as sc\n",
    "from src import soporte_queries_creacion as sqc\n",
    "\n",
    "\n",
    "# Para trabajar con los DataFrames\n",
    "# -----------------------------------------------------------------------\n",
    "import pandas as pd\n",
    "# Para trabajar con postgresql\n",
    "# -----------------------------------------------------------------------\n",
    "import psycopg2\n",
    "\n",
    "# Para trabajar gestionar los nulos\n",
    "# -----------------------------------------------------------------------\n",
    "import numpy as np\n",
    "\n",
    "# Configuración\n",
    "# -----------------------------------------------------------------------\n",
    "pd.set_option('display.max_columns', None) # para poder visualizar todas las columnas de los DataFrames\n",
    "\n",
    "# Ignorar warings\n",
    "# -----------------------------------------------------------------------\n",
    "import warnings\n",
    "warnings.filterwarnings(\"ignore\")\n",
    "\n",
    "from psycopg2 import errorcodes, OperationalError"
   ]
  },
  {
   "cell_type": "code",
   "execution_count": 83,
   "metadata": {},
   "outputs": [],
   "source": [
    "def conectar(ddbb):\n",
    "    try:\n",
    "        connection = psycopg2.connect(\n",
    "            database = ddbb,\n",
    "            user = \"postgres\",\n",
    "            password = \"admin\",\n",
    "            host = \"localhost\",\n",
    "            port = \"5432\"\n",
    "        )\n",
    "    except OperationalError as e:\n",
    "        if e.pgcode == errorcodes.INVALID_PASSWORD:\n",
    "            print(\"La constraseña es errónea.\")\n",
    "        elif e.pgcode == errorcodes.CONNECTION_EXCEPTION:\n",
    "            print(\"Error de conexión\")\n",
    "        else:\n",
    "            print(f'Error:{e}')\n",
    "    return connection\n",
    "\n",
    "def query_fetch(connection, query_text):\n",
    "    cursor = connection.cursor()\n",
    "    cursor.execute(query_text)\n",
    "    result = cursor.fetchall()\n",
    "    cursor.close()\n",
    "    connection.close()\n",
    "    return result\n",
    "\n",
    "def query_commit(connection, query_text, *valores):\n",
    "    cursor = connection.cursor()\n",
    "    cursor.execute(query_text, *valores)\n",
    "    connection.commit()\n",
    "    cursor.close()\n",
    "    connection.close()\n",
    "    return print(\"Done!\")\n",
    "\n",
    "def query_commit_many(connection, query_text, valores):\n",
    "    cursor = connection.cursor()\n",
    "    cursor.executemany(query_text, valores)\n",
    "    connection.commit()\n",
    "    cursor.close()\n",
    "    connection.close()\n",
    "    return print(\"Done!\")"
   ]
  },
  {
   "cell_type": "markdown",
   "metadata": {},
   "source": [
    "## Creacionde base de datos"
   ]
  },
  {
   "cell_type": "code",
   "execution_count": 64,
   "metadata": {},
   "outputs": [],
   "source": [
    "def establecer_conn(database_name, postgres_pass, usuario, host=\"localhost\"):\n",
    "    \"\"\"\n",
    "    Establece una conexión a una base de datos de PostgreSQL.\n",
    "\n",
    "    Params:\n",
    "        - database_name (str): El nombre de la base de datos a la que conectarse.\n",
    "        - postgres_pass (str): La contraseña del usuario de PostgreSQL.\n",
    "        - usuario (str): El nombre del usuario de PostgreSQL.\n",
    "        - host (str, opcional): La dirección del servidor PostgreSQL. Por defecto es \"localhost\".\n",
    "\n",
    "    Returns:\n",
    "        psycopg2.extensions.connection: La conexión establecida a la base de datos PostgreSQL.\n",
    "\n",
    "    \"\"\"\n",
    "\n",
    "    # Crear la conexión a la base de datos PostgreSQL\n",
    "    conn = psycopg2.connect(\n",
    "        host=host,\n",
    "        user=usuario,\n",
    "        password=postgres_pass,\n",
    "        database=database_name\n",
    "    )\n",
    "\n",
    "    # Establecer la conexión en modo autocommit\n",
    "    conn.autocommit = True # No hace necesario el uso del commit al final de cada sentencia de insert, delete, etc.\n",
    "    \n",
    "    return conn\n",
    "\n",
    "\n",
    "\n",
    "# conexion a postgres\n",
    "conn = establecer_conn(\"postgres\", \"admin\", \"postgres\") # Nos conectamos a la base de datos de postgres por defecto para poder crear la nueva base de datos\n",
    "\n",
    "# creamos un cursor con la conexion que acabamos de crear\n",
    "cur = conn.cursor()\n"
   ]
  },
  {
   "cell_type": "code",
   "execution_count": 65,
   "metadata": {},
   "outputs": [],
   "source": [
    "cur.execute(\"SELECT 1 FROM pg_database WHERE datname = %s\", (\"sanidad42\",)) "
   ]
  },
  {
   "cell_type": "code",
   "execution_count": 66,
   "metadata": {},
   "outputs": [
    {
     "data": {
      "text/plain": [
       "tuple"
      ]
     },
     "execution_count": 66,
     "metadata": {},
     "output_type": "execute_result"
    }
   ],
   "source": [
    "\n",
    "# Almacenamos en una variable el resultado del fetchone. Si existe tendrá una fila sino será None\n",
    "bbdd_existe = cur.fetchone() # recordamos que fetchone nos devuelve unico valor  \n",
    "type(bbdd_existe)"
   ]
  },
  {
   "cell_type": "code",
   "execution_count": 67,
   "metadata": {},
   "outputs": [
    {
     "name": "stdout",
     "output_type": "stream",
     "text": [
      "La base de datos ya existe\n"
     ]
    }
   ],
   "source": [
    "# Si bbdd_existe es None, creamos la base de datos\n",
    "if not bbdd_existe:\n",
    "    cur.execute(f'CREATE DATABASE {\"sanidad42\"};')\n",
    "    print(f'Base de datos {\"sanidad42\"} creada con éxito')\n",
    "else:\n",
    "    print(f\"La base de datos ya existe\")\n",
    "    "
   ]
  },
  {
   "cell_type": "code",
   "execution_count": 68,
   "metadata": {},
   "outputs": [],
   "source": [
    "# Cerramos el cursor y la conexion\n",
    "cur.close()\n",
    "conn.close()"
   ]
  },
  {
   "cell_type": "code",
   "execution_count": 69,
   "metadata": {},
   "outputs": [],
   "source": [
    "def crear_db(database_name):\n",
    "    # conexion a postgres\n",
    "    conn = establecer_conn(\"postgres\", \"admin\", \"postgres\") # Nos conectamos a la base de datos de postgres por defecto para poder crear la nueva base de datos\n",
    "    \n",
    "    # creamos un cursor con la conexion que acabamos de crear\n",
    "    cur = conn.cursor()\n",
    "    \n",
    "    cur.execute(\"SELECT 1 FROM pg_database WHERE datname = %s\", (database_name,))\n",
    "    \n",
    "    # Almacenamos en una variable el resultado del fetchone. Si existe tendrá una fila sino será None\n",
    "    bbdd_existe = cur.fetchone()\n",
    "    \n",
    "    # Si bbdd_existe es None, creamos la base de datos\n",
    "    if not bbdd_existe:\n",
    "        cur.execute(f\"CREATE DATABASE {database_name};\")\n",
    "        print(f\"Base de datos {database_name} creada con éxito\")\n",
    "    else:\n",
    "        print(f\"La base de datos ya existe\")\n",
    "        \n",
    "    # Cerramos el cursor y la conexion\n",
    "    cur.close()\n",
    "    conn.close()\n"
   ]
  },
  {
   "cell_type": "markdown",
   "metadata": {},
   "source": [
    "## Creacionde base de Tablas\n"
   ]
  },
  {
   "cell_type": "code",
   "execution_count": 70,
   "metadata": {},
   "outputs": [],
   "source": [
    "conexion = establecer_conn(\"sanidad42\", \"admin\", \"postgres\")\n",
    "\n",
    "# creamos cada una de las tablas de la base de datos.\n",
    "conexion.cursor().execute(sqc.query_creation_hospitales)\n",
    "conexion.cursor().execute(sqc.query_creation_tipo_hosp)\n",
    "conexion.cursor().execute(sqc.query_creation_gastos)\n",
    "conexion.cursor().execute(sqc.query_creation_ingresos)"
   ]
  },
  {
   "cell_type": "code",
   "execution_count": 71,
   "metadata": {},
   "outputs": [],
   "source": [
    "gastos = pd.read_csv('..\\datos\\gastos.csv')\n",
    "ingresos = pd.read_csv('..\\datos\\ingresos.csv', index_col=0)"
   ]
  },
  {
   "cell_type": "code",
   "execution_count": 72,
   "metadata": {},
   "outputs": [
    {
     "data": {
      "text/plain": [
       "857"
      ]
     },
     "execution_count": 72,
     "metadata": {},
     "output_type": "execute_result"
    }
   ],
   "source": [
    "len(gastos[\"ncodi\"].unique())"
   ]
  },
  {
   "cell_type": "code",
   "execution_count": 73,
   "metadata": {},
   "outputs": [
    {
     "data": {
      "text/plain": [
       "2424"
      ]
     },
     "execution_count": 73,
     "metadata": {},
     "output_type": "execute_result"
    }
   ],
   "source": [
    "len(ingresos[\"ncodi\"].unique())"
   ]
  },
  {
   "cell_type": "code",
   "execution_count": 74,
   "metadata": {},
   "outputs": [],
   "source": [
    "ingresos[\"ncodi\"] = ingresos[\"ncodi\"].str.replace(',', '.').astype(float)"
   ]
  },
  {
   "cell_type": "code",
   "execution_count": 75,
   "metadata": {},
   "outputs": [
    {
     "data": {
      "text/html": [
       "<div>\n",
       "<style scoped>\n",
       "    .dataframe tbody tr th:only-of-type {\n",
       "        vertical-align: middle;\n",
       "    }\n",
       "\n",
       "    .dataframe tbody tr th {\n",
       "        vertical-align: top;\n",
       "    }\n",
       "\n",
       "    .dataframe thead th {\n",
       "        text-align: right;\n",
       "    }\n",
       "</style>\n",
       "<table border=\"1\" class=\"dataframe\">\n",
       "  <thead>\n",
       "    <tr style=\"text-align: right;\">\n",
       "      <th></th>\n",
       "      <th>particulares</th>\n",
       "      <th>aseguradoras</th>\n",
       "      <th>aseguradoras_enfermedad</th>\n",
       "      <th>aseguradoreas_trafico</th>\n",
       "      <th>mutuas</th>\n",
       "      <th>tipo</th>\n",
       "      <th>año</th>\n",
       "      <th>ncodi</th>\n",
       "    </tr>\n",
       "  </thead>\n",
       "  <tbody>\n",
       "    <tr>\n",
       "      <th>18510</th>\n",
       "      <td>1011.0</td>\n",
       "      <td>44506.0</td>\n",
       "      <td>44506.0</td>\n",
       "      <td>0.0</td>\n",
       "      <td>0.0</td>\n",
       "      <td>Hospital</td>\n",
       "      <td>2017</td>\n",
       "      <td>NaN</td>\n",
       "    </tr>\n",
       "    <tr>\n",
       "      <th>19288</th>\n",
       "      <td>1906.0</td>\n",
       "      <td>13026.0</td>\n",
       "      <td>13026.0</td>\n",
       "      <td>0.0</td>\n",
       "      <td>0.0</td>\n",
       "      <td>consulExter</td>\n",
       "      <td>2017</td>\n",
       "      <td>NaN</td>\n",
       "    </tr>\n",
       "    <tr>\n",
       "      <th>20066</th>\n",
       "      <td>3133.0</td>\n",
       "      <td>37131.0</td>\n",
       "      <td>37131.0</td>\n",
       "      <td>0.0</td>\n",
       "      <td>0.0</td>\n",
       "      <td>CMA</td>\n",
       "      <td>2017</td>\n",
       "      <td>NaN</td>\n",
       "    </tr>\n",
       "    <tr>\n",
       "      <th>20844</th>\n",
       "      <td>0.0</td>\n",
       "      <td>7622.0</td>\n",
       "      <td>7622.0</td>\n",
       "      <td>0.0</td>\n",
       "      <td>0.0</td>\n",
       "      <td>hospDia</td>\n",
       "      <td>2017</td>\n",
       "      <td>NaN</td>\n",
       "    </tr>\n",
       "    <tr>\n",
       "      <th>21622</th>\n",
       "      <td>5885.0</td>\n",
       "      <td>119212.0</td>\n",
       "      <td>118687.0</td>\n",
       "      <td>525.0</td>\n",
       "      <td>1188.0</td>\n",
       "      <td>Urgencia</td>\n",
       "      <td>2017</td>\n",
       "      <td>NaN</td>\n",
       "    </tr>\n",
       "    <tr>\n",
       "      <th>22400</th>\n",
       "      <td>0.0</td>\n",
       "      <td>0.0</td>\n",
       "      <td>0.0</td>\n",
       "      <td>0.0</td>\n",
       "      <td>0.0</td>\n",
       "      <td>hospDom</td>\n",
       "      <td>2017</td>\n",
       "      <td>NaN</td>\n",
       "    </tr>\n",
       "    <tr>\n",
       "      <th>28085</th>\n",
       "      <td>404302.0</td>\n",
       "      <td>0.0</td>\n",
       "      <td>0.0</td>\n",
       "      <td>0.0</td>\n",
       "      <td>0.0</td>\n",
       "      <td>Hospital</td>\n",
       "      <td>2019</td>\n",
       "      <td>NaN</td>\n",
       "    </tr>\n",
       "    <tr>\n",
       "      <th>28862</th>\n",
       "      <td>0.0</td>\n",
       "      <td>0.0</td>\n",
       "      <td>0.0</td>\n",
       "      <td>0.0</td>\n",
       "      <td>0.0</td>\n",
       "      <td>consulExter</td>\n",
       "      <td>2019</td>\n",
       "      <td>NaN</td>\n",
       "    </tr>\n",
       "    <tr>\n",
       "      <th>29639</th>\n",
       "      <td>0.0</td>\n",
       "      <td>0.0</td>\n",
       "      <td>0.0</td>\n",
       "      <td>0.0</td>\n",
       "      <td>0.0</td>\n",
       "      <td>CMA</td>\n",
       "      <td>2019</td>\n",
       "      <td>NaN</td>\n",
       "    </tr>\n",
       "    <tr>\n",
       "      <th>30416</th>\n",
       "      <td>0.0</td>\n",
       "      <td>0.0</td>\n",
       "      <td>0.0</td>\n",
       "      <td>0.0</td>\n",
       "      <td>0.0</td>\n",
       "      <td>hospDia</td>\n",
       "      <td>2019</td>\n",
       "      <td>NaN</td>\n",
       "    </tr>\n",
       "    <tr>\n",
       "      <th>31193</th>\n",
       "      <td>0.0</td>\n",
       "      <td>0.0</td>\n",
       "      <td>0.0</td>\n",
       "      <td>0.0</td>\n",
       "      <td>0.0</td>\n",
       "      <td>Urgencia</td>\n",
       "      <td>2019</td>\n",
       "      <td>NaN</td>\n",
       "    </tr>\n",
       "    <tr>\n",
       "      <th>31970</th>\n",
       "      <td>0.0</td>\n",
       "      <td>0.0</td>\n",
       "      <td>0.0</td>\n",
       "      <td>0.0</td>\n",
       "      <td>0.0</td>\n",
       "      <td>hospDom</td>\n",
       "      <td>2019</td>\n",
       "      <td>NaN</td>\n",
       "    </tr>\n",
       "    <tr>\n",
       "      <th>32885</th>\n",
       "      <td>0.0</td>\n",
       "      <td>0.0</td>\n",
       "      <td>0.0</td>\n",
       "      <td>0.0</td>\n",
       "      <td>0.0</td>\n",
       "      <td>Hospital</td>\n",
       "      <td>2021</td>\n",
       "      <td>NaN</td>\n",
       "    </tr>\n",
       "    <tr>\n",
       "      <th>33656</th>\n",
       "      <td>0.0</td>\n",
       "      <td>0.0</td>\n",
       "      <td>0.0</td>\n",
       "      <td>0.0</td>\n",
       "      <td>0.0</td>\n",
       "      <td>consulExter</td>\n",
       "      <td>2021</td>\n",
       "      <td>NaN</td>\n",
       "    </tr>\n",
       "    <tr>\n",
       "      <th>34427</th>\n",
       "      <td>0.0</td>\n",
       "      <td>0.0</td>\n",
       "      <td>0.0</td>\n",
       "      <td>0.0</td>\n",
       "      <td>0.0</td>\n",
       "      <td>CMA</td>\n",
       "      <td>2021</td>\n",
       "      <td>NaN</td>\n",
       "    </tr>\n",
       "    <tr>\n",
       "      <th>35198</th>\n",
       "      <td>0.0</td>\n",
       "      <td>0.0</td>\n",
       "      <td>0.0</td>\n",
       "      <td>0.0</td>\n",
       "      <td>0.0</td>\n",
       "      <td>hospDia</td>\n",
       "      <td>2021</td>\n",
       "      <td>NaN</td>\n",
       "    </tr>\n",
       "    <tr>\n",
       "      <th>35969</th>\n",
       "      <td>0.0</td>\n",
       "      <td>0.0</td>\n",
       "      <td>0.0</td>\n",
       "      <td>0.0</td>\n",
       "      <td>0.0</td>\n",
       "      <td>Urgencia</td>\n",
       "      <td>2021</td>\n",
       "      <td>NaN</td>\n",
       "    </tr>\n",
       "    <tr>\n",
       "      <th>36740</th>\n",
       "      <td>0.0</td>\n",
       "      <td>0.0</td>\n",
       "      <td>0.0</td>\n",
       "      <td>0.0</td>\n",
       "      <td>0.0</td>\n",
       "      <td>hospDom</td>\n",
       "      <td>2021</td>\n",
       "      <td>NaN</td>\n",
       "    </tr>\n",
       "  </tbody>\n",
       "</table>\n",
       "</div>"
      ],
      "text/plain": [
       "       particulares  aseguradoras  aseguradoras_enfermedad  \\\n",
       "18510        1011.0       44506.0                  44506.0   \n",
       "19288        1906.0       13026.0                  13026.0   \n",
       "20066        3133.0       37131.0                  37131.0   \n",
       "20844           0.0        7622.0                   7622.0   \n",
       "21622        5885.0      119212.0                 118687.0   \n",
       "22400           0.0           0.0                      0.0   \n",
       "28085      404302.0           0.0                      0.0   \n",
       "28862           0.0           0.0                      0.0   \n",
       "29639           0.0           0.0                      0.0   \n",
       "30416           0.0           0.0                      0.0   \n",
       "31193           0.0           0.0                      0.0   \n",
       "31970           0.0           0.0                      0.0   \n",
       "32885           0.0           0.0                      0.0   \n",
       "33656           0.0           0.0                      0.0   \n",
       "34427           0.0           0.0                      0.0   \n",
       "35198           0.0           0.0                      0.0   \n",
       "35969           0.0           0.0                      0.0   \n",
       "36740           0.0           0.0                      0.0   \n",
       "\n",
       "       aseguradoreas_trafico  mutuas         tipo   año  ncodi  \n",
       "18510                    0.0     0.0     Hospital  2017    NaN  \n",
       "19288                    0.0     0.0  consulExter  2017    NaN  \n",
       "20066                    0.0     0.0          CMA  2017    NaN  \n",
       "20844                    0.0     0.0      hospDia  2017    NaN  \n",
       "21622                  525.0  1188.0     Urgencia  2017    NaN  \n",
       "22400                    0.0     0.0      hospDom  2017    NaN  \n",
       "28085                    0.0     0.0     Hospital  2019    NaN  \n",
       "28862                    0.0     0.0  consulExter  2019    NaN  \n",
       "29639                    0.0     0.0          CMA  2019    NaN  \n",
       "30416                    0.0     0.0      hospDia  2019    NaN  \n",
       "31193                    0.0     0.0     Urgencia  2019    NaN  \n",
       "31970                    0.0     0.0      hospDom  2019    NaN  \n",
       "32885                    0.0     0.0     Hospital  2021    NaN  \n",
       "33656                    0.0     0.0  consulExter  2021    NaN  \n",
       "34427                    0.0     0.0          CMA  2021    NaN  \n",
       "35198                    0.0     0.0      hospDia  2021    NaN  \n",
       "35969                    0.0     0.0     Urgencia  2021    NaN  \n",
       "36740                    0.0     0.0      hospDom  2021    NaN  "
      ]
     },
     "execution_count": 75,
     "metadata": {},
     "output_type": "execute_result"
    }
   ],
   "source": [
    "ingresos[ingresos[\"ncodi\"].isna()]"
   ]
  },
  {
   "cell_type": "code",
   "execution_count": 76,
   "metadata": {},
   "outputs": [
    {
     "data": {
      "text/html": [
       "<div>\n",
       "<style scoped>\n",
       "    .dataframe tbody tr th:only-of-type {\n",
       "        vertical-align: middle;\n",
       "    }\n",
       "\n",
       "    .dataframe tbody tr th {\n",
       "        vertical-align: top;\n",
       "    }\n",
       "\n",
       "    .dataframe thead th {\n",
       "        text-align: right;\n",
       "    }\n",
       "</style>\n",
       "<table border=\"1\" class=\"dataframe\">\n",
       "  <thead>\n",
       "    <tr style=\"text-align: right;\">\n",
       "      <th></th>\n",
       "      <th>año</th>\n",
       "      <th>ncodi</th>\n",
       "      <th>totalcompra</th>\n",
       "      <th>producfarma</th>\n",
       "      <th>materialsani</th>\n",
       "      <th>implantes</th>\n",
       "      <th>restomateriasani</th>\n",
       "      <th>servcontratado</th>\n",
       "      <th>trabajocontratado</th>\n",
       "      <th>xrestocompras</th>\n",
       "      <th>variaexistencias</th>\n",
       "      <th>servexteriores</th>\n",
       "      <th>sumistro</th>\n",
       "      <th>xrestoserviexter</th>\n",
       "      <th>gastopersonal</th>\n",
       "      <th>sueldos</th>\n",
       "      <th>indemnizacion</th>\n",
       "      <th>segsocempresa</th>\n",
       "      <th>otrgassocial</th>\n",
       "      <th>dotaamortizacion</th>\n",
       "      <th>perdidadeterioro</th>\n",
       "      <th>xrestogasto</th>\n",
       "      <th>totcompragasto</th>\n",
       "    </tr>\n",
       "  </thead>\n",
       "  <tbody>\n",
       "    <tr>\n",
       "      <th>1251</th>\n",
       "      <td>2019</td>\n",
       "      <td>NaN</td>\n",
       "      <td>195702</td>\n",
       "      <td>96335.0</td>\n",
       "      <td>35161</td>\n",
       "      <td>0.0</td>\n",
       "      <td>35161.0</td>\n",
       "      <td>8086.0</td>\n",
       "      <td>32820.0</td>\n",
       "      <td>23300.0</td>\n",
       "      <td>3200.0</td>\n",
       "      <td>918446</td>\n",
       "      <td>29685.0</td>\n",
       "      <td>888761.0</td>\n",
       "      <td>2327709</td>\n",
       "      <td>1829339</td>\n",
       "      <td>33779.0</td>\n",
       "      <td>460158</td>\n",
       "      <td>4433.0</td>\n",
       "      <td>29488.0</td>\n",
       "      <td>0.0</td>\n",
       "      <td>2396.0</td>\n",
       "      <td>3476941</td>\n",
       "    </tr>\n",
       "    <tr>\n",
       "      <th>3399</th>\n",
       "      <td>2017</td>\n",
       "      <td>NaN</td>\n",
       "      <td>480139</td>\n",
       "      <td>53011.0</td>\n",
       "      <td>121076</td>\n",
       "      <td>0.0</td>\n",
       "      <td>121076.0</td>\n",
       "      <td>89350.0</td>\n",
       "      <td>0.0</td>\n",
       "      <td>216702.0</td>\n",
       "      <td>-81828.0</td>\n",
       "      <td>466118</td>\n",
       "      <td>93226.0</td>\n",
       "      <td>372892.0</td>\n",
       "      <td>470110</td>\n",
       "      <td>366438</td>\n",
       "      <td>2929.0</td>\n",
       "      <td>100743</td>\n",
       "      <td>0.0</td>\n",
       "      <td>234984.0</td>\n",
       "      <td>0.0</td>\n",
       "      <td>190.0</td>\n",
       "      <td>1569713</td>\n",
       "    </tr>\n",
       "  </tbody>\n",
       "</table>\n",
       "</div>"
      ],
      "text/plain": [
       "       año  ncodi  totalcompra  producfarma  materialsani  implantes  \\\n",
       "1251  2019    NaN       195702      96335.0         35161        0.0   \n",
       "3399  2017    NaN       480139      53011.0        121076        0.0   \n",
       "\n",
       "      restomateriasani  servcontratado  trabajocontratado  xrestocompras  \\\n",
       "1251           35161.0          8086.0            32820.0        23300.0   \n",
       "3399          121076.0         89350.0                0.0       216702.0   \n",
       "\n",
       "      variaexistencias  servexteriores  sumistro  xrestoserviexter  \\\n",
       "1251            3200.0          918446   29685.0          888761.0   \n",
       "3399          -81828.0          466118   93226.0          372892.0   \n",
       "\n",
       "      gastopersonal  sueldos  indemnizacion  segsocempresa  otrgassocial  \\\n",
       "1251        2327709  1829339        33779.0         460158        4433.0   \n",
       "3399         470110   366438         2929.0         100743           0.0   \n",
       "\n",
       "      dotaamortizacion  perdidadeterioro  xrestogasto  totcompragasto  \n",
       "1251           29488.0               0.0       2396.0         3476941  \n",
       "3399          234984.0               0.0        190.0         1569713  "
      ]
     },
     "execution_count": 76,
     "metadata": {},
     "output_type": "execute_result"
    }
   ],
   "source": [
    "gastos[gastos[\"ncodi\"].isna()]"
   ]
  },
  {
   "cell_type": "code",
   "execution_count": 77,
   "metadata": {},
   "outputs": [],
   "source": [
    "gastos.drop(index=gastos[gastos[\"ncodi\"].isna()].index, inplace=True)\n",
    "ingresos.drop(index=ingresos[ingresos[\"ncodi\"].isna()].index, inplace=True)\n",
    "\n",
    "gastos[\"ncodi\"] = gastos[\"ncodi\"].astype(int)\n",
    "ingresos[\"ncodi\"] = ingresos[\"ncodi\"].astype(int)"
   ]
  },
  {
   "cell_type": "code",
   "execution_count": 78,
   "metadata": {},
   "outputs": [
    {
     "data": {
      "text/plain": [
       "array([990, 680, 411, 241, 558, 167, 248, 224, 591, 586])"
      ]
     },
     "execution_count": 78,
     "metadata": {},
     "output_type": "execute_result"
    }
   ],
   "source": [
    "ingresos[\"ncodi\"].unique()[:10]"
   ]
  },
  {
   "cell_type": "code",
   "execution_count": 79,
   "metadata": {},
   "outputs": [
    {
     "data": {
      "text/plain": [
       "array([ 113,  619,  163,  131,  375, 1090,  764,   14,  657,  362])"
      ]
     },
     "execution_count": 79,
     "metadata": {},
     "output_type": "execute_result"
    }
   ],
   "source": [
    "gastos[\"ncodi\"].unique()[:10]"
   ]
  },
  {
   "cell_type": "code",
   "execution_count": 80,
   "metadata": {},
   "outputs": [
    {
     "name": "stdout",
     "output_type": "stream",
     "text": [
      "Están todos los hospitales de los gastos en los ingresos?: True\n"
     ]
    }
   ],
   "source": [
    "result = np.isin(gastos[\"ncodi\"].unique(), ingresos[\"ncodi\"].unique()).all()\n",
    "print(\"Están todos los hospitales de los gastos en los ingresos?:\", (result)) "
   ]
  },
  {
   "cell_type": "code",
   "execution_count": 95,
   "metadata": {},
   "outputs": [
    {
     "name": "stdout",
     "output_type": "stream",
     "text": [
      "[(990,), (680,), (411,), (241,), (558,), (167,), (248,), (224,), (591,), (586,), (453,), (113,), (619,), (163,), (131,), (375,), (1090,), (764,), (14,), (657,), (362,), (989,), (145,), (511,), (530,), (6,), (161,), (623,), (489,), (875,), (940,), (946,), (1023,), (1054,), (1057,), (1031,), (1032,), (1064,), (226,), (687,), (745,), (109,), (808,), (971,), (128,), (919,), (725,), (3,), (386,), (306,), (15,), (264,), (867,), (910,), (1053,), (1055,), (1081,), (1099,), (529,), (345,), (515,), (174,), (523,), (697,), (239,), (287,), (377,), (692,), (335,), (435,), (423,), (351,), (810,), (830,), (892,), (921,), (991,), (992,), (993,), (1070,), (1095,), (1094,), (473,), (663,), (552,), (772,), (568,), (398,), (394,), (614,), (235,), (616,), (267,), (565,), (220,), (278,), (107,), (141,), (711,), (204,), (579,), (348,), (766,), (761,), (728,), (280,), (222,), (276,), (11,), (302,), (682,), (279,), (282,), (281,), (183,), (610,), (116,), (115,), (114,), (126,), (119,), (770,), (583,), (136,), (469,), (642,), (674,), (193,), (526,), (698,), (630,), (124,), (364,), (604,), (123,), (310,), (571,), (296,), (566,), (784,), (102,), (379,), (639,), (457,), (609,), (101,), (454,), (318,), (600,), (545,), (100,), (702,), (778,), (341,), (99,), (767,), (359,), (98,), (132,), (97,), (103,), (110,), (94,), (91,), (664,), (918,), (92,), (95,), (96,), (301,), (492,), (811,), (812,), (832,), (841,), (856,), (859,), (861,), (880,), (883,), (884,), (877,), (911,), (913,), (922,), (923,), (924,), (947,), (951,), (1103,), (972,), (973,), (974,), (975,), (960,), (1028,), (976,), (977,), (1020,), (994,), (995,), (1060,), (1005,), (1061,), (1006,), (1088,), (1089,), (1076,), (1078,), (1033,), (1036,), (1037,), (1039,), (1067,), (1065,), (1066,), (207,), (431,), (387,), (179,), (606,), (925,), (541,), (797,), (627,), (173,), (636,), (205,), (814,), (881,), (771,), (533,), (447,), (815,), (801,), (800,), (389,), (695,), (816,), (833,), (870,), (927,), (961,), (962,), (1079,), (1101,), (666,), (392,), (790,), (650,), (876,), (944,), (952,), (54,), (367,), (538,), (557,), (653,), (647,), (978,), (996,), (729,), (182,), (633,), (685,), (683,), (945,), (953,), (1022,), (1049,), (794,), (415,), (592,), (497,), (726,), (272,), (805,), (5,), (234,), (64,), (842,), (843,), (1025,), (803,), (211,), (773,), (424,), (298,), (594,), (237,), (16,), (768,), (617,), (297,), (105,), (544,), (804,), (470,), (104,), (20,), (550,), (112,), (818,), (914,), (928,), (964,), (1026,), (1068,), (738,), (404,), (274,), (270,), (676,), (709,), (754,), (997,), (734,), (299,), (645,), (17,), (1046,), (420,), (802,), (266,), (580,), (137,), (769,), (776,), (640,), (315,), (40,), (508,), (46,), (590,), (777,), (897,), (965,), (671,), (461,), (376,), (621,), (793,), (1102,), (712,), (32,), (361,), (486,), (595,), (433,), (1058,), (261,), (730,), (577,), (788,), (865,), (979,), (998,), (221,), (506,), (727,), (355,), (487,), (938,), (886,), (835,), (999,), (798,), (504,), (247,), (216,), (654,), (65,), (472,), (427,), (491,), (551,), (106,), (819,), (836,), (915,), (942,), (748,), (198,), (871,), (948,), (1051,), (1083,), (1096,), (679,), (176,), (537,), (608,), (596,), (749,), (758,), (1104,), (436,), (567,), (677,), (670,), (588,), (446,), (753,), (887,), (585,), (245,), (603,), (426,), (232,), (288,), (246,), (284,), (18,), (356,), (401,), (733,), (243,), (380,), (716,), (534,), (185,), (258,), (505,), (268,), (602,), (254,), (705,), (133,), (33,), (143,), (36,), (756,), (662,), (192,), (382,), (322,), (478,), (352,), (628,), (291,), (327,), (690,), (262,), (403,), (312,), (589,), (665,), (334,), (1075,), (751,), (186,), (646,), (536,), (242,), (490,), (500,), (206,), (58,), (572,), (180,), (549,), (582,), (743,), (795,), (269,), (634,), (1,), (717,), (373,), (535,), (824,), (888,), (902,), (968,), (346,), (27,), (165,), (956,), (413,), (149,), (612,), (559,), (7,), (283,), (37,), (153,), (547,), (397,), (556,), (42,), (31,), (740,), (217,), (863,), (889,), (984,), (34,), (791,), (181,), (430,), (495,), (845,), (498,), (314,), (720,), (721,), (485,), (273,), (846,), (847,), (848,), (864,), (916,), (930,), (954,), (943,), (949,), (980,), (981,), (1024,), (1017,), (1000,), (1018,), (1001,), (1007,), (1008,), (1009,), (1010,), (1011,), (1012,), (1013,), (1041,), (1073,), (1087,), (789,), (326,), (442,), (294,), (378,), (402,), (29,), (450,), (656,), (333,), (668,), (684,), (422,), (763,), (741,), (553,), (357,), (899,), (900,), (932,), (950,), (966,), (967,), (982,), (1014,), (1048,), (1080,), (1074,), (722,), (660,), (75,), (249,), (275,), (227,), (150,), (47,), (172,), (581,), (120,), (445,), (471,), (53,), (199,), (575,), (528,), (631,), (699,), (823,), (849,), (869,), (955,), (983,), (1002,), (1015,), (51,), (441,), (715,), (521,), (524,), (432,), (19,), (25,), (26,), (890,), (904,), (957,), (939,), (236,), (735,), (146,), (363,), (187,), (265,), (295,), (496,), (77,), (391,), (240,), (448,), (151,), (425,), (300,), (339,), (826,), (874,), (905,), (736,), (459,), (320,), (45,), (292,), (618,), (463,), (891,), (958,), (244,), (28,), (444,), (479,), (285,), (253,), (481,), (540,), (332,), (41,), (510,), (305,), (708,), (755,), (750,), (696,), (434,), (421,), (827,), (933,), (1030,), (1003,), (1050,), (1043,), (934,), (629,), (21,), (615,), (626,), (417,), (597,), (539,), (343,), (135,), (158,), (775,), (177,), (578,), (416,), (561,), (828,), (860,), (935,), (936,), (986,), (987,), (1021,), (1085,), (658,), (353,), (323,), (620,), (384,), (554,), (209,), (707,), (395,), (969,), (1052,), (739,), (613,), (593,), (704,), (493,), (686,), (257,), (494,), (681,), (286,), (255,), (79,), (81,), (688,), (531,), (514,), (499,), (532,), (190,), (598,), (260,), (838,), (839,), (851,), (852,), (988,), (1056,), (1044,), (644,), (752,), (238,), (325,), (622,), (879,), (906,), (370,), (418,), (574,), (399,), (195,), (783,), (263,), (194,), (214,), (785,), (780,), (782,), (369,), (84,), (713,), (941,), (1091,), (1045,), (1086,), (937,), (1004,), (737,), (765,), (329,), (87,), (527,), (562,), (251,), (129,), (154,), (516,), (184,), (652,), (637,), (88,), (907,), (970,), (1019,), (1016,), (1047,), (635,), (439,), (570,), (1100,), (1105,), (1107,), (458,), (1108,), (1084,), (1106,), (62,), (1111,), (882,), (1109,), (1110,), (1112,), (1113,), (1114,), (324,), (1071,), (1027,), (759,), (462,), (724,), (484,), (1069,), (1118,), (1120,), (1126,), (1137,), (1142,), (1129,), (1140,), (1072,), (1130,), (1141,), (1145,), (1122,), (1133,), (1146,), (349,), (1115,), (1124,), (1062,), (1121,), (1119,), (1123,), (1128,), (1125,), (1135,), (781,), (779,), (908,), (732,), (569,), (156,), (93,), (1059,), (1063,), (1034,), (208,), (308,), (39,), (388,), (703,), (474,), (507,), (63,), (188,), (83,), (85,), (86,), (1150,), (1035,), (1157,), (1151,), (1127,), (1158,), (1116,), (1147,), (1159,), (1156,), (1155,), (1148,), (1152,), (1153,), (1154,), (1149,), (1166,), (1169,), (1163,), (1170,), (1168,), (1171,), (1160,), (1172,), (1164,), (1165,), (1161,)]\n"
     ]
    }
   ],
   "source": [
    "hospitales = ingresos[\"ncodi\"].unique()\n",
    "lista_tuplas = [tuple([int(i)]) for i in hospitales]\n",
    "print(lista_tuplas)"
   ]
  },
  {
   "cell_type": "code",
   "execution_count": 96,
   "metadata": {},
   "outputs": [
    {
     "name": "stdout",
     "output_type": "stream",
     "text": [
      "Done!\n"
     ]
    }
   ],
   "source": [
    "query_hospitales = '''INSERT INTO hospitales(ncodi)\n",
    "                values(%s)'''\n",
    "\n",
    "conexion = conectar(ddbb = 'sanidad42')\n",
    "query_commit_many(connection = conexion, query_text=query_hospitales, valores = lista_tuplas)"
   ]
  },
  {
   "cell_type": "code",
   "execution_count": 103,
   "metadata": {},
   "outputs": [
    {
     "name": "stdout",
     "output_type": "stream",
     "text": [
      "Done!\n"
     ]
    }
   ],
   "source": [
    "tipo = ingresos[\"tipo\"].unique()\n",
    "lista_tuplas_tipo = [tuple([t]) for t in tipo ]\n",
    "\n",
    "query_tipos = '''INSERT INTO tipo_hospitalizacion(nombre)\n",
    "                values(%s)'''\n",
    "\n",
    "conexion = conectar(ddbb = 'sanidad42')\n",
    "query_commit_many(connection = conexion, query_text=query_tipos, valores = lista_tuplas_tipo)"
   ]
  },
  {
   "cell_type": "code",
   "execution_count": 112,
   "metadata": {},
   "outputs": [],
   "source": [
    "tipo_dict = dict()\n",
    "for k, i in enumerate(tipo, start=1):\n",
    "    tipo_dict[i] = k"
   ]
  },
  {
   "cell_type": "code",
   "execution_count": 113,
   "metadata": {},
   "outputs": [
    {
     "data": {
      "text/plain": [
       "{'Hospital': 1,\n",
       " 'consulExter': 2,\n",
       " 'CMA': 3,\n",
       " 'hospDia': 4,\n",
       " 'Urgencia': 5,\n",
       " 'hospDom': 6}"
      ]
     },
     "execution_count": 113,
     "metadata": {},
     "output_type": "execute_result"
    }
   ],
   "source": [
    "tipo_dict"
   ]
  },
  {
   "cell_type": "code",
   "execution_count": 115,
   "metadata": {},
   "outputs": [],
   "source": [
    "ingresos[\"tipo\"] = ingresos[\"tipo\"].map(tipo_dict)"
   ]
  },
  {
   "cell_type": "code",
   "execution_count": 120,
   "metadata": {},
   "outputs": [],
   "source": [
    "lista_tuplas_ingresos = [tuple(dato) for dato in ingresos.values]"
   ]
  },
  {
   "cell_type": "code",
   "execution_count": 123,
   "metadata": {},
   "outputs": [
    {
     "name": "stdout",
     "output_type": "stream",
     "text": [
      "Done!\n"
     ]
    }
   ],
   "source": [
    "query_ingresos = '''\n",
    "                    INSERT INTO ingresos(particulares,aseguradoras,aseguradoras_enfermedad,aseguradoras_trafico,mutuas,tipo_id,anio,ncodi)\n",
    "                        values(%s,%s,%s,%s,%s,%s,%s,%s)\n",
    "'''\n",
    "\n",
    "conexion = conectar(ddbb = 'sanidad42')\n",
    "query_commit_many(connection = conexion, query_text=query_ingresos, valores = lista_tuplas_ingresos)\n"
   ]
  },
  {
   "cell_type": "code",
   "execution_count": 148,
   "metadata": {},
   "outputs": [],
   "source": [
    "lista_tuplas_gastos = [tuple(datos) for datos in gastos.values]"
   ]
  },
  {
   "cell_type": "code",
   "execution_count": 153,
   "metadata": {},
   "outputs": [
    {
     "name": "stdout",
     "output_type": "stream",
     "text": [
      "Done!\n"
     ]
    }
   ],
   "source": [
    "query_gastos = '''\n",
    "INSERT INTO gastos(anio,ncodi,totalcompra,producfarma,materialsani,implantes,restomateriasani,servcontratado,trabajocontratado,xrestocompras,variaexistencias,servexteriores,sumistro,xrestoserviexter,gastopersonal,sueldos,indemnizacion,segsocempresa,otrgassocial,dotaamortizacion,perdidadeterioro,xrestogasto,totcompragasto)\n",
    "            values(%s,%s,%s,%s,%s,%s,%s,%s,%s,%s,%s,%s,%s,%s,%s,%s,%s,%s,%s,%s,%s,%s,%s)\n",
    "'''\n",
    "conexion = conectar(ddbb = 'sanidad42')\n",
    "query_commit_many(connection = conexion, query_text=query_gastos, valores = lista_tuplas_gastos)\n"
   ]
  }
 ],
 "metadata": {
  "kernelspec": {
   "display_name": "Python 3",
   "language": "python",
   "name": "python3"
  },
  "language_info": {
   "codemirror_mode": {
    "name": "ipython",
    "version": 3
   },
   "file_extension": ".py",
   "mimetype": "text/x-python",
   "name": "python",
   "nbconvert_exporter": "python",
   "pygments_lexer": "ipython3",
   "version": "3.11.9"
  }
 },
 "nbformat": 4,
 "nbformat_minor": 2
}

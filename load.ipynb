{
 "cells": [
  {
   "cell_type": "markdown",
   "metadata": {},
   "source": [
    "# Carga de datos \n"
   ]
  },
  {
   "cell_type": "markdown",
   "metadata": {
    "vscode": {
     "languageId": "plaintext"
    }
   },
   "source": [
    "## Librerias "
   ]
  },
  {
   "cell_type": "code",
   "execution_count": 1,
   "metadata": {},
   "outputs": [],
   "source": [
    "\n",
    "# Importación de las funciones creadas en nuestro archivo de soporte\n",
    "# -----------------------------------------------------------------------\n",
    "import sys\n",
    "sys.path.append(\"..\")\n",
    "\n",
    "# from src import soporte_carga as sc\n",
    "from src import soporte_queries_creacion as sqc\n",
    "\n",
    "\n",
    "# Para trabajar con los DataFrames\n",
    "# -----------------------------------------------------------------------\n",
    "import pandas as pd\n",
    "# Para trabajar con postgresql\n",
    "# -----------------------------------------------------------------------\n",
    "import psycopg2\n",
    "\n",
    "# Para trabajar gestionar los nulos\n",
    "# -----------------------------------------------------------------------\n",
    "import numpy as np\n",
    "\n",
    "# Configuración\n",
    "# -----------------------------------------------------------------------\n",
    "pd.set_option('display.max_columns', None) # para poder visualizar todas las columnas de los DataFrames\n",
    "\n",
    "# Ignorar warings\n",
    "# -----------------------------------------------------------------------\n",
    "import warnings\n",
    "warnings.filterwarnings(\"ignore\")"
   ]
  },
  {
   "cell_type": "markdown",
   "metadata": {},
   "source": [
    "## Creacionde base de datos"
   ]
  },
  {
   "cell_type": "code",
   "execution_count": 2,
   "metadata": {},
   "outputs": [],
   "source": [
    "def establecer_conn(database_name, postgres_pass, usuario, host=\"localhost\"):\n",
    "    \"\"\"\n",
    "    Establece una conexión a una base de datos de PostgreSQL.\n",
    "\n",
    "    Params:\n",
    "        - database_name (str): El nombre de la base de datos a la que conectarse.\n",
    "        - postgres_pass (str): La contraseña del usuario de PostgreSQL.\n",
    "        - usuario (str): El nombre del usuario de PostgreSQL.\n",
    "        - host (str, opcional): La dirección del servidor PostgreSQL. Por defecto es \"localhost\".\n",
    "\n",
    "    Returns:\n",
    "        psycopg2.extensions.connection: La conexión establecida a la base de datos PostgreSQL.\n",
    "\n",
    "    \"\"\"\n",
    "\n",
    "    # Crear la conexión a la base de datos PostgreSQL\n",
    "    conn = psycopg2.connect(\n",
    "        host=host,\n",
    "        user=usuario,\n",
    "        password=postgres_pass,\n",
    "        database=database_name\n",
    "    )\n",
    "\n",
    "    # Establecer la conexión en modo autocommit\n",
    "    conn.autocommit = True # No hace necesario el uso del commit al final de cada sentencia de insert, delete, etc.\n",
    "    \n",
    "    return conn\n",
    "\n",
    "\n",
    "\n",
    "# conexion a postgres\n",
    "conn = establecer_conn(\"postgres\", \"admin\", \"my_user\") # Nos conectamos a la base de datos de postgres por defecto para poder crear la nueva base de datos\n",
    "\n",
    "# creamos un cursor con la conexion que acabamos de crear\n",
    "cur = conn.cursor()\n"
   ]
  },
  {
   "cell_type": "code",
   "execution_count": 3,
   "metadata": {},
   "outputs": [],
   "source": [
    "cur.execute(\"SELECT 1 FROM pg_database WHERE datname = %s\", (\"sanidad42\",)) "
   ]
  },
  {
   "cell_type": "code",
   "execution_count": 4,
   "metadata": {},
   "outputs": [
    {
     "data": {
      "text/plain": [
       "tuple"
      ]
     },
     "execution_count": 4,
     "metadata": {},
     "output_type": "execute_result"
    }
   ],
   "source": [
    "\n",
    "# Almacenamos en una variable el resultado del fetchone. Si existe tendrá una fila sino será None\n",
    "bbdd_existe = cur.fetchone() # recordamos que fetchone nos devuelve unico valor  \n",
    "type(bbdd_existe)"
   ]
  },
  {
   "cell_type": "code",
   "execution_count": 5,
   "metadata": {},
   "outputs": [
    {
     "name": "stdout",
     "output_type": "stream",
     "text": [
      "La base de datos ya existe\n"
     ]
    }
   ],
   "source": [
    "# Si bbdd_existe es None, creamos la base de datos\n",
    "if not bbdd_existe:\n",
    "    cur.execute(f'CREATE DATABASE {\"sanidad42\"};')\n",
    "    print(f'Base de datos {\"sanidad42\"} creada con éxito')\n",
    "else:\n",
    "    print(f\"La base de datos ya existe\")\n",
    "    "
   ]
  },
  {
   "cell_type": "code",
   "execution_count": 6,
   "metadata": {},
   "outputs": [],
   "source": [
    "# Cerramos el cursor y la conexion\n",
    "cur.close()\n",
    "conn.close()"
   ]
  },
  {
   "cell_type": "code",
   "execution_count": 7,
   "metadata": {},
   "outputs": [],
   "source": [
    "def crear_db(database_name):\n",
    "    # conexion a postgres\n",
    "    conn = establecer_conn(\"postgres\", \"admin\", \"postgres\") # Nos conectamos a la base de datos de postgres por defecto para poder crear la nueva base de datos\n",
    "    \n",
    "    # creamos un cursor con la conexion que acabamos de crear\n",
    "    cur = conn.cursor()\n",
    "    \n",
    "    cur.execute(\"SELECT 1 FROM pg_database WHERE datname = %s\", (database_name,))\n",
    "    \n",
    "    # Almacenamos en una variable el resultado del fetchone. Si existe tendrá una fila sino será None\n",
    "    bbdd_existe = cur.fetchone()\n",
    "    \n",
    "    # Si bbdd_existe es None, creamos la base de datos\n",
    "    if not bbdd_existe:\n",
    "        cur.execute(f\"CREATE DATABASE {database_name};\")\n",
    "        print(f\"Base de datos {database_name} creada con éxito\")\n",
    "    else:\n",
    "        print(f\"La base de datos ya existe\")\n",
    "        \n",
    "    # Cerramos el cursor y la conexion\n",
    "    cur.close()\n",
    "    conn.close()\n"
   ]
  },
  {
   "cell_type": "markdown",
   "metadata": {},
   "source": [
    "## Creacionde base de Tablas\n"
   ]
  },
  {
   "cell_type": "code",
   "execution_count": 8,
   "metadata": {},
   "outputs": [],
   "source": [
    "conexion = establecer_conn(\"sanidad42\", \"admin\", \"postgres\")\n",
    "\n",
    "# creamos cada una de las tablas de la base de datos.\n",
    "conexion.cursor().execute(sqc.query_creation_hospitales)\n",
    "conexion.cursor().execute(sqc.query_creation_tipo_hosp)\n",
    "conexion.cursor().execute(sqc.query_creation_gastos)\n",
    "conexion.cursor().execute(sqc.query_creation_ingresos)"
   ]
  }
 ],
 "metadata": {
  "kernelspec": {
   "display_name": "Python 3",
   "language": "python",
   "name": "python3"
  },
  "language_info": {
   "codemirror_mode": {
    "name": "ipython",
    "version": 3
   },
   "file_extension": ".py",
   "mimetype": "text/x-python",
   "name": "python",
   "nbconvert_exporter": "python",
   "pygments_lexer": "ipython3",
   "version": "3.11.9"
  }
 },
 "nbformat": 4,
 "nbformat_minor": 2
}
